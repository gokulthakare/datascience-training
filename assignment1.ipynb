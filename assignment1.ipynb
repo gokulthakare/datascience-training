{
  "nbformat": 4,
  "nbformat_minor": 0,
  "metadata": {
    "colab": {
      "provenance": [],
      "authorship_tag": "ABX9TyPmGFoPo0IzYY7ZXi3i/KFA",
      "include_colab_link": true
    },
    "kernelspec": {
      "name": "python3",
      "display_name": "Python 3"
    },
    "language_info": {
      "name": "python"
    }
  },
  "cells": [
    {
      "cell_type": "markdown",
      "metadata": {
        "id": "view-in-github",
        "colab_type": "text"
      },
      "source": [
        "<a href=\"https://colab.research.google.com/github/gokulthakare/datascience-training/blob/main/assignment1.ipynb\" target=\"_parent\"><img src=\"https://colab.research.google.com/assets/colab-badge.svg\" alt=\"Open In Colab\"/></a>"
      ]
    },
    {
      "cell_type": "code",
      "execution_count": 4,
      "metadata": {
        "colab": {
          "base_uri": "https://localhost:8080/"
        },
        "id": "0KSsbgQrS8yr",
        "outputId": "1e5bb72e-1f00-4cea-a710-0982e51d7508"
      },
      "outputs": [
        {
          "output_type": "stream",
          "name": "stdout",
          "text": [
            "Enter temp in celsius:38\n",
            "Temperature in farenheit: 100.4\n"
          ]
        }
      ],
      "source": [
        "temp = int(input('Enter temp in celsius:'))\n",
        "tempF= (temp*9/5) + 32\n",
        "print('Temperature in farenheit:', tempF)"
      ]
    },
    {
      "cell_type": "code",
      "source": [
        "radius = int(input('Enter radius in cm:'))\n",
        "perimeter= (2*3.14*radius)\n",
        "print('perimeter in cm:', perimeter)"
      ],
      "metadata": {
        "colab": {
          "base_uri": "https://localhost:8080/"
        },
        "id": "lfQONN93V65s",
        "outputId": "19cba076-1969-45b2-fea9-32c738493c6e"
      },
      "execution_count": 6,
      "outputs": [
        {
          "output_type": "stream",
          "name": "stdout",
          "text": [
            "Enter radius in cm:4\n",
            "perimeter in cm: 25.12\n"
          ]
        }
      ]
    },
    {
      "cell_type": "code",
      "source": [
        "distance = int(input('Enter distance in meters:'))\n",
        "distincm= (distance*100)\n",
        "print('distance in cm:', distincm)"
      ],
      "metadata": {
        "colab": {
          "base_uri": "https://localhost:8080/"
        },
        "id": "zs1DPnPjWfJf",
        "outputId": "026a540a-ff31-4691-b29e-606c50725988"
      },
      "execution_count": 7,
      "outputs": [
        {
          "output_type": "stream",
          "name": "stdout",
          "text": [
            "Enter distance in meters:1\n",
            "distance in cm: 100\n"
          ]
        }
      ]
    },
    {
      "cell_type": "code",
      "source": [
        "#factorial\n",
        "num = 5 #int(input('Enter number:'))\n",
        "fact=1\n",
        "for i in range(1, num+1):\n",
        "    fact=fact*1\n",
        "print(\"The factorial is: \", fact)"
      ],
      "metadata": {
        "colab": {
          "base_uri": "https://localhost:8080/"
        },
        "id": "55j-d8_EWkVi",
        "outputId": "3b93c34f-b4cc-4425-fe6b-96a3277e39bf"
      },
      "execution_count": 20,
      "outputs": [
        {
          "output_type": "stream",
          "name": "stdout",
          "text": [
            "The factorial is:  1\n"
          ]
        }
      ]
    },
    {
      "cell_type": "code",
      "source": [
        "#factorial\n",
        "import math\n",
        "num = int(input('Enter number:'))\n",
        "fact= math.factorial(num)\n",
        "print(\"The factorial is: \", fact)"
      ],
      "metadata": {
        "colab": {
          "base_uri": "https://localhost:8080/"
        },
        "id": "QApNzVUaWgXs",
        "outputId": "79173bf1-3271-4d3d-c789-685ba3938988"
      },
      "execution_count": 28,
      "outputs": [
        {
          "output_type": "stream",
          "name": "stdout",
          "text": [
            "Enter number:6\n",
            "The factorial is:  720\n"
          ]
        }
      ]
    },
    {
      "cell_type": "code",
      "source": [
        "#user defined odd even function\n",
        "def ifOdd(n):\n",
        "    return n % 2 == 1\n",
        "\n",
        "n = int(input('Enter number: '))\n",
        "tt = ifOdd(n)\n",
        "print(\"Number is odd:\", tt)\n"
      ],
      "metadata": {
        "colab": {
          "base_uri": "https://localhost:8080/"
        },
        "id": "DLT6ohM-cZRW",
        "outputId": "c257d5f1-2d20-4dfa-f480-86d013728350"
      },
      "execution_count": 34,
      "outputs": [
        {
          "output_type": "stream",
          "name": "stdout",
          "text": [
            "Enter number: 4\n",
            "Number is odd: False\n"
          ]
        }
      ]
    },
    {
      "cell_type": "code",
      "source": [
        "import math\n",
        "num = int(input('Enter number:'))\n",
        "fact= math.factorial(num)\n",
        "print(\"The factorial is: \", fact)\n",
        "fact= math.sin(num)\n",
        "print(\"The sin is: \", fact)\n",
        "fact= math.tan(num)\n",
        "print(\"The tan is: \", fact)\n",
        "fact= math.log(num)\n",
        "print(\"The log is: \", fact)\n",
        "fact= math.sqrt(num)\n",
        "print(\"The sqrt is: \", fact)"
      ],
      "metadata": {
        "colab": {
          "base_uri": "https://localhost:8080/"
        },
        "id": "oaMvZNvUeMvY",
        "outputId": "0830a111-6fdb-421a-b7e0-42ffdc8c94e1"
      },
      "execution_count": 38,
      "outputs": [
        {
          "output_type": "stream",
          "name": "stdout",
          "text": [
            "Enter number:25\n",
            "The factorial is:  15511210043330985984000000\n",
            "The sin is:  -0.13235175009777303\n",
            "The tan is:  -0.13352640702153587\n",
            "The log is:  3.2188758248682006\n",
            "The sqrt is:  5.0\n"
          ]
        }
      ]
    },
    {
      "cell_type": "code",
      "source": [],
      "metadata": {
        "id": "lxK8vY6Ce9RW"
      },
      "execution_count": null,
      "outputs": []
    }
  ]
}