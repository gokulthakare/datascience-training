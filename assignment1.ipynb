{
  "nbformat": 4,
  "nbformat_minor": 0,
  "metadata": {
    "colab": {
      "provenance": [],
      "authorship_tag": "ABX9TyMtPnNtKRRkn9/Ck8jJ61UV",
      "include_colab_link": true
    },
    "kernelspec": {
      "name": "python3",
      "display_name": "Python 3"
    },
    "language_info": {
      "name": "python"
    }
  },
  "cells": [
    {
      "cell_type": "markdown",
      "metadata": {
        "id": "view-in-github",
        "colab_type": "text"
      },
      "source": [
        "<a href=\"https://colab.research.google.com/github/gokulthakare/datascience-training/blob/main/assignment1.ipynb\" target=\"_parent\"><img src=\"https://colab.research.google.com/assets/colab-badge.svg\" alt=\"Open In Colab\"/></a>"
      ]
    },
    {
      "cell_type": "code",
      "execution_count": 4,
      "metadata": {
        "colab": {
          "base_uri": "https://localhost:8080/"
        },
        "id": "0KSsbgQrS8yr",
        "outputId": "1e5bb72e-1f00-4cea-a710-0982e51d7508"
      },
      "outputs": [
        {
          "output_type": "stream",
          "name": "stdout",
          "text": [
            "Enter temp in celsius:38\n",
            "Temperature in farenheit: 100.4\n"
          ]
        }
      ],
      "source": [
        "temp = int(input('Enter temp in celsius:'))\n",
        "tempF= (temp*9/5) + 32\n",
        "print('Temperature in farenheit:', tempF)"
      ]
    },
    {
      "cell_type": "code",
      "source": [
        "radius = int(input('Enter radius in cm:'))\n",
        "perimeter= (2*3.14*radius)\n",
        "print('perimeter in cm:', perimeter)"
      ],
      "metadata": {
        "colab": {
          "base_uri": "https://localhost:8080/"
        },
        "id": "lfQONN93V65s",
        "outputId": "19cba076-1969-45b2-fea9-32c738493c6e"
      },
      "execution_count": 6,
      "outputs": [
        {
          "output_type": "stream",
          "name": "stdout",
          "text": [
            "Enter radius in cm:4\n",
            "perimeter in cm: 25.12\n"
          ]
        }
      ]
    },
    {
      "cell_type": "code",
      "source": [
        "distance = int(input('Enter distance in meters:'))\n",
        "distincm= (distance*100)\n",
        "print('distance in cm:', distincm)"
      ],
      "metadata": {
        "colab": {
          "base_uri": "https://localhost:8080/"
        },
        "id": "zs1DPnPjWfJf",
        "outputId": "026a540a-ff31-4691-b29e-606c50725988"
      },
      "execution_count": 7,
      "outputs": [
        {
          "output_type": "stream",
          "name": "stdout",
          "text": [
            "Enter distance in meters:1\n",
            "distance in cm: 100\n"
          ]
        }
      ]
    },
    {
      "cell_type": "code",
      "source": [
        "#factorial\n",
        "num = 5 #int(input('Enter number:'))\n",
        "fact=1\n",
        "for i in range(1, num+1):\n",
        "    fact=fact*1\n",
        "print(\"The factorial is: \", fact)"
      ],
      "metadata": {
        "colab": {
          "base_uri": "https://localhost:8080/"
        },
        "id": "55j-d8_EWkVi",
        "outputId": "3b93c34f-b4cc-4425-fe6b-96a3277e39bf"
      },
      "execution_count": 20,
      "outputs": [
        {
          "output_type": "stream",
          "name": "stdout",
          "text": [
            "The factorial is:  1\n"
          ]
        }
      ]
    },
    {
      "cell_type": "code",
      "source": [
        "#factorial\n",
        "import math\n",
        "num = int(input('Enter number:'))\n",
        "fact= math.factorial(num)\n",
        "print(\"The factorial is: \", fact)"
      ],
      "metadata": {
        "colab": {
          "base_uri": "https://localhost:8080/"
        },
        "id": "QApNzVUaWgXs",
        "outputId": "79173bf1-3271-4d3d-c789-685ba3938988"
      },
      "execution_count": 28,
      "outputs": [
        {
          "output_type": "stream",
          "name": "stdout",
          "text": [
            "Enter number:6\n",
            "The factorial is:  720\n"
          ]
        }
      ]
    },
    {
      "cell_type": "code",
      "source": [],
      "metadata": {
        "id": "DLT6ohM-cZRW"
      },
      "execution_count": null,
      "outputs": []
    }
  ]
}