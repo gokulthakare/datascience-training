{
  "nbformat": 4,
  "nbformat_minor": 0,
  "metadata": {
    "colab": {
      "provenance": [],
      "authorship_tag": "ABX9TyMIDI2s0ug6SjywCgRaN+J7",
      "include_colab_link": true
    },
    "kernelspec": {
      "name": "python3",
      "display_name": "Python 3"
    },
    "language_info": {
      "name": "python"
    }
  },
  "cells": [
    {
      "cell_type": "markdown",
      "metadata": {
        "id": "view-in-github",
        "colab_type": "text"
      },
      "source": [
        "<a href=\"https://colab.research.google.com/github/gokulthakare/datascience-training/blob/main/assignment1.ipynb\" target=\"_parent\"><img src=\"https://colab.research.google.com/assets/colab-badge.svg\" alt=\"Open In Colab\"/></a>"
      ]
    },
    {
      "cell_type": "code",
      "execution_count": 4,
      "metadata": {
        "colab": {
          "base_uri": "https://localhost:8080/"
        },
        "id": "0KSsbgQrS8yr",
        "outputId": "1e5bb72e-1f00-4cea-a710-0982e51d7508"
      },
      "outputs": [
        {
          "output_type": "stream",
          "name": "stdout",
          "text": [
            "Enter temp in celsius:38\n",
            "Temperature in farenheit: 100.4\n"
          ]
        }
      ],
      "source": [
        "temp = int(input('Enter temp in celsius:'))\n",
        "tempF= (temp*9/5) + 32\n",
        "print('Temperature in farenheit:', tempF)"
      ]
    },
    {
      "cell_type": "code",
      "source": [
        "radius = int(input('Enter radius in cm:'))\n",
        "perimeter= (2*3.14*radius)\n",
        "print('perimeter in cm:', perimeter)"
      ],
      "metadata": {
        "colab": {
          "base_uri": "https://localhost:8080/"
        },
        "id": "lfQONN93V65s",
        "outputId": "19cba076-1969-45b2-fea9-32c738493c6e"
      },
      "execution_count": 6,
      "outputs": [
        {
          "output_type": "stream",
          "name": "stdout",
          "text": [
            "Enter radius in cm:4\n",
            "perimeter in cm: 25.12\n"
          ]
        }
      ]
    },
    {
      "cell_type": "code",
      "source": [
        "distance = int(input('Enter distance in meters:'))\n",
        "distincm= (distance*100)\n",
        "print('distance in cm:', distincm)"
      ],
      "metadata": {
        "colab": {
          "base_uri": "https://localhost:8080/"
        },
        "id": "zs1DPnPjWfJf",
        "outputId": "026a540a-ff31-4691-b29e-606c50725988"
      },
      "execution_count": 7,
      "outputs": [
        {
          "output_type": "stream",
          "name": "stdout",
          "text": [
            "Enter distance in meters:1\n",
            "distance in cm: 100\n"
          ]
        }
      ]
    },
    {
      "cell_type": "code",
      "source": [
        "num = int(input('Enter number:'))\n",
        "perimeter= (2*3.14*radius)\n",
        "print('perimeter in cm:', perimeter)"
      ],
      "metadata": {
        "id": "55j-d8_EWkVi"
      },
      "execution_count": null,
      "outputs": []
    },
    {
      "cell_type": "code",
      "source": [],
      "metadata": {
        "id": "QApNzVUaWgXs"
      },
      "execution_count": null,
      "outputs": []
    }
  ]
}