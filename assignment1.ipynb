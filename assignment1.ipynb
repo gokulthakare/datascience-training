{
  "nbformat": 4,
  "nbformat_minor": 0,
  "metadata": {
    "colab": {
      "provenance": [],
      "authorship_tag": "ABX9TyO0nqcffPXZiHXW4jytDrpH",
      "include_colab_link": true
    },
    "kernelspec": {
      "name": "python3",
      "display_name": "Python 3"
    },
    "language_info": {
      "name": "python"
    }
  },
  "cells": [
    {
      "cell_type": "markdown",
      "metadata": {
        "id": "view-in-github",
        "colab_type": "text"
      },
      "source": [
        "<a href=\"https://colab.research.google.com/github/gokulthakare/datascience-training/blob/main/assignment1.ipynb\" target=\"_parent\"><img src=\"https://colab.research.google.com/assets/colab-badge.svg\" alt=\"Open In Colab\"/></a>"
      ]
    },
    {
      "cell_type": "code",
      "execution_count": 3,
      "metadata": {
        "colab": {
          "base_uri": "https://localhost:8080/"
        },
        "id": "0KSsbgQrS8yr",
        "outputId": "099b3f29-4357-4630-fa2b-e37c7a0af898"
      },
      "outputs": [
        {
          "output_type": "stream",
          "name": "stdout",
          "text": [
            "Enter temp in celsius:37\n",
            "Temperature in farenheit: 98.6\n"
          ]
        }
      ],
      "source": [
        "temp = int(input('Enter temp in celsius:'))\n",
        "tempF= (temp*9/5) + 32\n",
        "print('Temperature in farenheit:', tempF)"
      ]
    }
  ]
}